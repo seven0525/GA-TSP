{
 "cells": [
  {
   "cell_type": "code",
   "execution_count": 131,
   "metadata": {},
   "outputs": [
    {
     "name": "stdout",
     "output_type": "stream",
     "text": [
      "b'13'\n"
     ]
    }
   ],
   "source": [
    "import urllib.request\n",
    "import time\n",
    "\n",
    "def query(url):\n",
    "    res = urllib.request.urlopen(url)\n",
    "    return res.read()\n",
    "\n",
    "token = \"1SworK5NyQ0DYfM62nRNxycUBp01BGn9\"\n",
    "\n",
    "str_2    = \"aaaaaghjhjhjhjhjhjaaaaaeeeeggggccccgcc\"\n",
    "url    = \"https://runner.team-lab.com/q?token=%s&str=%s\" % (token, str_2)\n",
    "result = query(url)\n",
    "print(result)\n",
    "    \n"
   ]
  },
  {
   "cell_type": "code",
   "execution_count": null,
   "metadata": {},
   "outputs": [],
   "source": []
  },
  {
   "cell_type": "code",
   "execution_count": 30,
   "metadata": {},
   "outputs": [],
   "source": [
    "# coding: utf8\n",
    "import random\n",
    "import copy\n",
    "import urllib.request\n",
    "import time\n",
    "import string\n",
    "import time\n",
    "\n",
    "# パラメーター\n",
    "LIST_SIZE = 50 # 0/1リスト長（遺伝子長）\n",
    "\n",
    "POPULATION_SIZE = 20 # 集団の個体数(20だと40世代でも9のままだった)\n",
    "GENERATION = 200 # 世代数\n",
    "MUTATE = 0.5 # 突然異変の確率(０．３だとずっと50世代でも「9」のままだった)\n",
    "SELECT_RATE = 0.9 # 選択割合"
   ]
  },
  {
   "cell_type": "code",
   "execution_count": null,
   "metadata": {},
   "outputs": [],
   "source": []
  },
  {
   "cell_type": "code",
   "execution_count": 34,
   "metadata": {},
   "outputs": [],
   "source": [
    "# 適応度を計算する\n",
    "def calc_fitness(individual):\n",
    "    try:\n",
    "        individual = ''.join(individual)\n",
    "        individual = individual.replace(\",\", \"\")\n",
    "        #print(individual)\n",
    "        token = \"1SworK5NyQ0DYfM62nRNxycUBp01BGn9\"\n",
    "        url    = \"https://runner.team-lab.com/q?token=%s&str=%s\" % (token, individual)\n",
    "        res = urllib.request.urlopen(url)\n",
    "        time.sleep(1)\n",
    "        answer = res.read().decode('utf-8')\n",
    "        return answer\n",
    "    except(TypeError):\n",
    "        print(\"変！\")\n",
    "        return 0"
   ]
  },
  {
   "cell_type": "code",
   "execution_count": 3,
   "metadata": {},
   "outputs": [],
   "source": [
    "# 集団を適応度順にソートする\n",
    "def sort_fitness(population):\n",
    "    fp = []\n",
    "    for individual in population:\n",
    "        fitness = calc_fitness(individual)\n",
    "        fp.append((fitness, individual))\n",
    "    fp.sort(reverse=True)  # 適応度でソート（降順）\n",
    "    print(max(fp))\n",
    "\n",
    "    sorted_population = []\n",
    "    # リストに入れ直す\n",
    "    for fitness,  individual in fp:\n",
    "        sorted_population.append(individual)\n",
    "    return sorted_population"
   ]
  },
  {
   "cell_type": "code",
   "execution_count": 4,
   "metadata": {},
   "outputs": [],
   "source": [
    "# 選択（適応度の高い個体を残す）\n",
    "def selection(population):\n",
    "    sorted_population = sort_fitness(population)\n",
    "    n = int(POPULATION_SIZE * SELECT_RATE)\n",
    "    return sorted_population[0 : n]"
   ]
  },
  {
   "cell_type": "code",
   "execution_count": 5,
   "metadata": {},
   "outputs": [],
   "source": [
    "# #交叉（ランダムな範囲をr1,r2に置き換える）\n",
    "# def crossover(ind1, ind2):\n",
    "#     r1 = random.randint(0, LIST_SIZE -1)\n",
    "#     r2 = random.randint(r1 + 1, LIST_SIZE)\n",
    "#     ind = copy.deepcopy(ind1)\n",
    "#     ind[r1:r2] = ind2[r1:r2]\n",
    "#     print(\"これはindです{}\".format(ind))\n",
    "#     return ind\n",
    "\n",
    "def crossover(ind1, ind2):\n",
    "    aaa = []\n",
    "    for j in range(LIST_SIZE):\n",
    "        aaa.append(random.choice(string.ascii_lowercase))\n",
    "    return aaa"
   ]
  },
  {
   "cell_type": "code",
   "execution_count": 6,
   "metadata": {},
   "outputs": [],
   "source": [
    "# 突然変異（10%の確率で遺伝子を変化）\n",
    "def mutation(ind1):\n",
    "    ind2 = copy.deepcopy(ind1)\n",
    "    for i in range(LIST_SIZE):\n",
    "        if random.random() < MUTATE:\n",
    "            ind2[i] =  random.choice(string.ascii_lowercase)\n",
    "    return ind2"
   ]
  },
  {
   "cell_type": "code",
   "execution_count": null,
   "metadata": {
    "scrolled": true
   },
   "outputs": [
    {
     "name": "stdout",
     "output_type": "stream",
     "text": [
      "1世代\n",
      "('9', ['z', 'h', 'o', 's', 'e', 'o', 'c', 'm', 'l', 'b', 'b', 'm', 'g', 'e', 'r', 'r', 'p', 'e', 'j', 'h', 'k', 'l', 'g', 'i', 'a', 'x', 'o', 'q', 'j', 'e', 'l', 'c', 'l', 'n', 't', 'i', 's', 's', 'w', 'l', 'f', 'k', 'b', 'a', 'r', 'c', 's', 'k', 'g', 'i'])\n",
      "2世代\n",
      "('9', ['z', 'h', 'o', 's', 'e', 'o', 'c', 'm', 'l', 'b', 'b', 'm', 'g', 'e', 'r', 'r', 'p', 'e', 'j', 'h', 'k', 'l', 'g', 'i', 'a', 'x', 'o', 'q', 'j', 'e', 'l', 'c', 'l', 'n', 't', 'i', 's', 's', 'w', 'l', 'f', 'k', 'b', 'a', 'r', 'c', 's', 'k', 'g', 'i'])\n",
      "3世代\n",
      "('9', ['z', 'h', 'o', 's', 'e', 'o', 'c', 'm', 'l', 'b', 'b', 'm', 'g', 'e', 'r', 'r', 'p', 'e', 'j', 'h', 'k', 'l', 'g', 'i', 'a', 'x', 'o', 'q', 'j', 'e', 'l', 'c', 'l', 'n', 't', 'i', 's', 's', 'w', 'l', 'f', 'k', 'b', 'a', 'r', 'c', 's', 'k', 'g', 'i'])\n",
      "4世代\n",
      "('9', ['z', 'h', 'o', 's', 'e', 'o', 'c', 'm', 'l', 'b', 'b', 'm', 'g', 'e', 'r', 'r', 'p', 'e', 'j', 'h', 'k', 'l', 'g', 'i', 'a', 'x', 'o', 'q', 'j', 'e', 'l', 'c', 'l', 'n', 't', 'i', 's', 's', 'w', 'l', 'f', 'k', 'b', 'a', 'r', 'c', 's', 'k', 'g', 'i'])\n",
      "5世代\n",
      "('9', ['z', 'h', 'o', 's', 'e', 'o', 'c', 'm', 'l', 'b', 'b', 'm', 'g', 'e', 'r', 'r', 'p', 'e', 'j', 'h', 'k', 'l', 'g', 'i', 'a', 'x', 'o', 'q', 'j', 'e', 'l', 'c', 'l', 'n', 't', 'i', 's', 's', 'w', 'l', 'f', 'k', 'b', 'a', 'r', 'c', 's', 'k', 'g', 'i'])\n",
      "6世代\n"
     ]
    }
   ],
   "source": [
    "# メイン処理\n",
    "# 初期集団を生成（ランダムにA-Zを50個ずつ並べる）\n",
    "population = []\n",
    "for i in range(POPULATION_SIZE):\n",
    "    individual =  []\n",
    "    for j in range(LIST_SIZE):\n",
    "        individual.append(random.choice(string.ascii_lowercase))\n",
    "    population.append(individual)\n",
    "\n",
    "for generation in range(GENERATION):\n",
    "    print(str(generation + 1) + u\"世代\")\n",
    "\n",
    "    #選択\n",
    "    population = selection(population)\n",
    "\n",
    "    # 少なくなった分の個体を交叉と突然変異によって生成\n",
    "    n = POPULATION_SIZE - len(population)\n",
    "    for i in range(n):\n",
    "        aaa = []\n",
    "        for j in range(LIST_SIZE):\n",
    "            aaa.append(random.choice(string.ascii_lowercase))\n",
    "        population.append(aaa)\n",
    "    "
   ]
  },
  {
   "cell_type": "code",
   "execution_count": null,
   "metadata": {},
   "outputs": [],
   "source": []
  },
  {
   "cell_type": "code",
   "execution_count": 49,
   "metadata": {
    "scrolled": true
   },
   "outputs": [
    {
     "data": {
      "text/plain": [
       "str"
      ]
     },
     "execution_count": 49,
     "metadata": {},
     "output_type": "execute_result"
    }
   ],
   "source": [
    "aaa = []\n",
    "for j in range(LIST_SIZE):\n",
    "        aaa.append(random.choice(string.ascii_lowercase))\n",
    "bbb =  ''.join(aaa)"
   ]
  },
  {
   "cell_type": "code",
   "execution_count": null,
   "metadata": {},
   "outputs": [],
   "source": []
  },
  {
   "cell_type": "code",
   "execution_count": null,
   "metadata": {},
   "outputs": [],
   "source": []
  }
 ],
 "metadata": {
  "kernelspec": {
   "display_name": "Python 3",
   "language": "python",
   "name": "python3"
  },
  "language_info": {
   "codemirror_mode": {
    "name": "ipython",
    "version": 3
   },
   "file_extension": ".py",
   "mimetype": "text/x-python",
   "name": "python",
   "nbconvert_exporter": "python",
   "pygments_lexer": "ipython3",
   "version": "3.6.4"
  }
 },
 "nbformat": 4,
 "nbformat_minor": 2
}

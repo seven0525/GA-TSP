{
 "cells": [
  {
   "cell_type": "markdown",
   "metadata": {},
   "source": []
  },
  {
   "cell_type": "code",
   "execution_count": 2,
   "metadata": {},
   "outputs": [],
   "source": [
    "# coding: utf8\n",
    "import sys\n",
    "import random\n",
    "import math\n",
    "import copy\n",
    "import tkinter\n",
    "\n",
    "# パラメーター\n",
    "SCREEN_WIDTH  = 360\n",
    "SCREEN_HEIGHT = 360\n",
    "POINTS_SIZE = 50 # 都市の数\n",
    "LOOP = 100000 # 探索回数"
   ]
  },
  {
   "cell_type": "code",
   "execution_count": 4,
   "metadata": {},
   "outputs": [],
   "source": [
    "# 経路の距離を計算する\n",
    "def calc_distance(points, route):\n",
    "    distance = 0\n",
    "    for i in range(POINTS_SIZE):\n",
    "        (x0, y0) = points[route[i]]\n",
    "        # 最後は始点に戻る\n",
    "        if i == POINTS_SIZE - 1:\n",
    "            (x1, y1) = points[route[0]]\n",
    "        else:\n",
    "            (x1, y1) = points[route[i + 1]]\n",
    "        # 2点の距離を求める\n",
    "        distance = distance + math.sqrt((x0 - x1) * (x0 - x1) + (y0 - y1) * (y0 - y1))\n",
    "    return distance"
   ]
  },
  {
   "cell_type": "code",
   "execution_count": 14,
   "metadata": {},
   "outputs": [],
   "source": [
    "# メイン処理\n",
    "# ウィンドウ初期化\n",
    "root = tkinter.Tk()\n",
    "root.title(\"TSPを乱数だけで解いてみる\")\n",
    "root.geometry(str(SCREEN_WIDTH) + \"x\" + str(SCREEN_HEIGHT))\n",
    "\n",
    "# キャンバスを生成\n",
    "canvas = tkinter.Canvas(root, width = SCREEN_WIDTH, height = SCREEN_HEIGHT)\n",
    "canvas.place(x=0, y=0)"
   ]
  },
  {
   "cell_type": "code",
   "execution_count": 9,
   "metadata": {},
   "outputs": [],
   "source": [
    "# 都市の座標を生成\n",
    "points = []\n",
    "for i in range(POINTS_SIZE):\n",
    "    points.append((random.random(), random.random()))"
   ]
  },
  {
   "cell_type": "code",
   "execution_count": 15,
   "metadata": {},
   "outputs": [],
   "source": [
    "# 各都市を一巡する経路を作成\n",
    "route = list(range(POINTS_SIZE))\n",
    "\n",
    "min_route = copy.copy(route)\n",
    "min_dist = calc_distance(points, route)\n",
    "\n",
    "for c in range(LOOP):\n",
    "    root.title(u\"TSPを乱数だけで解いてみる（\" + str(c +  1) + u\"回）\")\n",
    "    \n",
    "    # 巡回する順番をランダムで入れ替える\n",
    "    random.shuffle(route)\n",
    "\n",
    "    dist = calc_distance(points, route)\n",
    "\n",
    "    # より短い経路が見つかった場合\n",
    "    if min_dist > dist:\n",
    "        min_route = copy.copy(route)\n",
    "        min_dist = dist\n",
    "\n",
    "        canvas.delete(\"all\")\n",
    "        for i in range(POINTS_SIZE):\n",
    "            (x0, y0) = points[route[i]]\n",
    "            if i == POINTS_SIZE - 1:\n",
    "                (x1, y1) = points[route[0]]\n",
    "            else:\n",
    "                (x1, y1) = points[route[i + 1]]\n",
    "            \n",
    "            canvas.create_line(\n",
    "                x0 * SCREEN_WIDTH, \n",
    "                y0 * SCREEN_HEIGHT,\n",
    "                x1 * SCREEN_WIDTH, \n",
    "                y1 * SCREEN_HEIGHT, \n",
    "                fill=\"black\",\n",
    "                width=1)\n",
    "            canvas.create_oval(\n",
    "                x0 * SCREEN_WIDTH - 3,\n",
    "                y0 * SCREEN_HEIGHT - 3,\n",
    "                x0 * SCREEN_WIDTH + 3,\n",
    "                y0 * SCREEN_HEIGHT + 3,\n",
    "                fill = \"blue\")\n",
    "            \n",
    "        # 距離を描画\n",
    "        canvas.create_text(5,5, text = \"{:.2f}\". format(min_dist), anchor = \"nw\", fill=\"red\")\n",
    "        canvas.update()\n",
    "    \n",
    "root.mainloop()"
   ]
  },
  {
   "cell_type": "markdown",
   "metadata": {},
   "source": [
    "<img src=\"tsp_random.png\" width=50%>"
   ]
  },
  {
   "cell_type": "code",
   "execution_count": null,
   "metadata": {},
   "outputs": [],
   "source": []
  }
 ],
 "metadata": {
  "kernelspec": {
   "display_name": "Python 3",
   "language": "python",
   "name": "python3"
  },
  "language_info": {
   "codemirror_mode": {
    "name": "ipython",
    "version": 3
   },
   "file_extension": ".py",
   "mimetype": "text/x-python",
   "name": "python",
   "nbconvert_exporter": "python",
   "pygments_lexer": "ipython3",
   "version": "3.6.4"
  }
 },
 "nbformat": 4,
 "nbformat_minor": 2
}

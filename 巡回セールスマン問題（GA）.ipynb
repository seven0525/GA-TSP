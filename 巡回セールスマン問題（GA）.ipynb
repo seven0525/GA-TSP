{
 "cells": [
  {
   "cell_type": "code",
   "execution_count": 1,
   "metadata": {},
   "outputs": [],
   "source": [
    "# coding: utf8\n",
    "import sys\n",
    "import random\n",
    "import math\n",
    "import copy\n",
    "import tkinter\n",
    "\n",
    "# パラメーター\n",
    "SCREEN_WIDTH  = 150\n",
    "SCREEN_HEIGHT = 150\n",
    "POINTS_SIZE = 50 # 都市の数\n",
    "POPULATION_SIZE = 20 #集団の個体数\n",
    "GENERATION = 2000 # 世代数\n",
    "MUTATE = 0.3 #突然変異の確率\n",
    "SELECT_RATE = 0.5 #選択割合"
   ]
  },
  {
   "cell_type": "code",
   "execution_count": 2,
   "metadata": {},
   "outputs": [],
   "source": [
    "# 経路の距離を計算する\n",
    "def calc_distance(points, route):\n",
    "    distance = 0\n",
    "    for i in range(POINTS_SIZE):\n",
    "        (x0, y0) = points[route[i]]\n",
    "        # 最後は始点に戻る\n",
    "        if i == POINTS_SIZE - 1:\n",
    "            (x1, y1) = points[route[0]]\n",
    "        else:\n",
    "            (x1, y1) = points[route[i + 1]]\n",
    "        # 2点の距離を求める\n",
    "        distance = distance + math.sqrt((x0 - x1) * (x0 - x1) + (y0 - y1) * (y0 - y1))\n",
    "    return distance"
   ]
  },
  {
   "cell_type": "code",
   "execution_count": 3,
   "metadata": {},
   "outputs": [],
   "source": [
    "# 集団を距離（適応度）で昇順にソートする\n",
    "def sort_fitness(points, population):\n",
    "    fp = []\n",
    "    for individual in population:\n",
    "        fitness = calc_distance(points, individual)\n",
    "        fp.append((fitness, individual))\n",
    "    fp.sort()  # 適応度でソート（昇順）\n",
    "\n",
    "    sorted_population = []\n",
    "    # リストに入れ直す\n",
    "    for fitness,  individual in fp:\n",
    "        sorted_population.append(individual)\n",
    "    return sorted_population"
   ]
  },
  {
   "cell_type": "code",
   "execution_count": 4,
   "metadata": {},
   "outputs": [],
   "source": [
    "# 選択\n",
    "def selection(points, population):\n",
    "    sorted_population = sort_fitness(points, population)\n",
    "    n = int(POPULATION_SIZE * SELECT_RATE)\n",
    "    return sorted_population[0 : n]"
   ]
  },
  {
   "cell_type": "code",
   "execution_count": 10,
   "metadata": {},
   "outputs": [],
   "source": [
    "# 交叉（ランダムな範囲をr1,r2に置き換える）\n",
    "def crossover(ind1, ind2):\n",
    "    r1 = random.randint(0, POINTS_SIZE -1)\n",
    "    r2 = random.randint(r1 + 1, POINTS_SIZE)\n",
    "    \n",
    "    # 使った年のフラグのリストを0で初期化\n",
    "    flag = [0] *  POINTS_SIZE\n",
    "    # 子の個体（-1で初期化）\n",
    "    ind = [-1] * POINTS_SIZE\n",
    "    \n",
    "    # r1-r2をind2から複製\n",
    "    for i in range(r1, r2):\n",
    "        city = ind2[i]\n",
    "        ind[i] = city\n",
    "        flag[city] = 1 # 使った都市のフラグに1をセット\n",
    "        \n",
    "        # 残り範囲はまだ使われていない遺伝子をind1から継承\n",
    "        for i in list(range(0, r1)) + list(range(r2, POINTS_SIZE)):\n",
    "            city = ind1[i]\n",
    "            # その都市が使われていない場合\n",
    "            if flag[city] == 0:\n",
    "                ind[i] = city\n",
    "                flag[city] = 1\n",
    "            \n",
    "        # 残った都市はまだ使われていない遺伝子をランダムで当てはめる\n",
    "        for i in range(0, POINTS_SIZE):\n",
    "            if ind[i] == -1:\n",
    "                for j in range(0, POINTS_SIZE):\n",
    "                    city = ind1[j]\n",
    "                    if flag[city] == 0:\n",
    "                        ind[i] = city\n",
    "                        flag[city] = 1\n",
    "                        break\n",
    "        return ind"
   ]
  },
  {
   "cell_type": "code",
   "execution_count": 11,
   "metadata": {},
   "outputs": [],
   "source": [
    "# 突然変異（ランダムに円乱打都市１と都市２の間を逆順にする）\n",
    "def mutation(ind1):\n",
    "    ind2 = copy.deepcopy(ind1)\n",
    "    if random.random() < MUTATE:\n",
    "        # 都市1\n",
    "        city1 = random.randint(0, POINTS_SIZE - 1)\n",
    "        # 都市2\n",
    "        city2 = random.randint(0, POINTS_SIZE - 1)\n",
    "        if city1 > city2:\n",
    "            city1, city2  = city2, city1 # 入れ替え\n",
    "        ind2[city1:city2+1] = reversed(ind1[city1:city2+1])\n",
    "    return ind2"
   ]
  },
  {
   "cell_type": "code",
   "execution_count": 12,
   "metadata": {},
   "outputs": [],
   "source": [
    "# メイン処理\n",
    "# ウィンドウ初期化\n",
    "root = tkinter.Tk()\n",
    "root.title(\"TSPをGAで解いてみる\")\n",
    "\n",
    "width_size = 5 # 横方向の配置数\n",
    "height_size = math.ceil(POPULATION_SIZE / width_size) # 縦方向の配置数\n",
    "window_width = SCREEN_WIDTH * width_size # ウィンドウの幅\n",
    "window_height = SCREEN_HEIGHT * height_size # ウィンドウの高さ\n",
    "root.geometry(str(window_width) + \"x\" + str(window_height)) # ウィンドウのサイズ\n",
    "\n",
    "canvas_list = []\n",
    "for i in range(POPULATION_SIZE):\n",
    "    canvas = tkinter.Canvas(root, width = SCREEN_WIDTH, height = SCREEN_HEIGHT)\n",
    "    cx = i % width_size * SCREEN_WIDTH\n",
    "    cy = int(i / width_size) * SCREEN_HEIGHT\n",
    "    canvas.place(x = cx, y = cy)\n",
    "    canvas_list.append(canvas)"
   ]
  },
  {
   "cell_type": "code",
   "execution_count": 13,
   "metadata": {},
   "outputs": [],
   "source": [
    "# 都市の座標を生成\n",
    "points = []\n",
    "for i in range(POINTS_SIZE):\n",
    "    points.append((random.random(), random.random()))"
   ]
  },
  {
   "cell_type": "code",
   "execution_count": null,
   "metadata": {},
   "outputs": [],
   "source": [
    "# 各都市を一巡する経路の初期集団の生成\n",
    "population = []\n",
    "for i in range(POPULATION_SIZE):\n",
    "    # 個体(経路)\n",
    "    individual = list(range(POINTS_SIZE))\n",
    "    # 経路をランダムに入れ替える\n",
    "    random.shuffle(individual)\n",
    "    population.append(individual)\n",
    "    \n",
    "for generation in range(GENERATION):\n",
    "    root.title(u\"TSPをGAで解いてみる（\" + str(generation +  1) + u\"世代）\")\n",
    "    \n",
    "    # 選択\n",
    "    population = selection(points, population)\n",
    "    \n",
    "    # 交叉と突然変異\n",
    "    # 交叉して増やす個体数\n",
    "    n = POPULATION_SIZE - len(population)\n",
    "    for i in range(n):\n",
    "        r1 = random.randint(0, len(population) -1)\n",
    "        r2 = random.randint(0, len(population) -1)\n",
    "        individual = crossover(population[r1], population[r2])\n",
    "        \n",
    "        #突然変異させて集団に追加\n",
    "        individual = mutation(individual)\n",
    "        population.append(individual)\n",
    "        \n",
    "    sort_fitness(points, population) # 適応度順にソート\n",
    "    \n",
    "    # 都市の経路を描画\n",
    "    for ind in range(POPULATION_SIZE):\n",
    "        canvas = canvas_list[ind]\n",
    "        route = population[ind]\n",
    "        dist = calc_distance(points, route)\n",
    "        canvas.delete('all')\n",
    "        for i in range(POINTS_SIZE):\n",
    "            (x0, y0) = points[route[i]]\n",
    "            if i == POINTS_SIZE - 1:\n",
    "                (x1, y1) = points[route[0]]\n",
    "            else:\n",
    "                (x1, y1) = points[route[i + 1]]\n",
    "            \n",
    "            canvas.create_line(\n",
    "                x0 * SCREEN_WIDTH, \n",
    "                y0 * SCREEN_HEIGHT,\n",
    "                x1 * SCREEN_WIDTH, \n",
    "                y1 * SCREEN_HEIGHT, \n",
    "                fill=\"black\",\n",
    "                width=1)\n",
    "            canvas.create_oval(\n",
    "                x0 * SCREEN_WIDTH - 2,\n",
    "                y0 * SCREEN_HEIGHT - 2,\n",
    "                x0 * SCREEN_WIDTH + 2,\n",
    "                y0 * SCREEN_HEIGHT + 2,\n",
    "                fill = \"blue\")\n",
    "        \n",
    "        # 枠を描画\n",
    "        canvas.create_rectangle(0, 0, SCREEN_WIDTH -1, SCREEN_HEIGHT -1, outline=\"grey\", width=1)\n",
    "            \n",
    "        # 距離を描画\n",
    "        canvas.create_text(5,5, text = \"{:.2f}\". format(dist), anchor = \"nw\", fill=\"red\")\n",
    "        canvas.update()\n",
    "        \n",
    "root.mainloop()    "
   ]
  },
  {
   "cell_type": "markdown",
   "metadata": {},
   "source": [
    "## 実行結果"
   ]
  },
  {
   "cell_type": "markdown",
   "metadata": {},
   "source": [
    "![](tsp_ga.png)"
   ]
  },
  {
   "cell_type": "code",
   "execution_count": null,
   "metadata": {},
   "outputs": [],
   "source": []
  }
 ],
 "metadata": {
  "kernelspec": {
   "display_name": "Python 3",
   "language": "python",
   "name": "python3"
  },
  "language_info": {
   "codemirror_mode": {
    "name": "ipython",
    "version": 3
   },
   "file_extension": ".py",
   "mimetype": "text/x-python",
   "name": "python",
   "nbconvert_exporter": "python",
   "pygments_lexer": "ipython3",
   "version": "3.6.4"
  }
 },
 "nbformat": 4,
 "nbformat_minor": 2
}
